{
 "cells": [
  {
   "cell_type": "markdown",
   "metadata": {},
   "source": [
    "# QR 분해"
   ]
  },
  {
   "cell_type": "markdown",
   "metadata": {},
   "source": [
    "# 행렬 설정"
   ]
  },
  {
   "cell_type": "code",
   "execution_count": 1,
   "metadata": {},
   "outputs": [],
   "source": [
    "A = [[1, 0, 1], [0, 1, 1], [1, 2, 0]]"
   ]
  },
  {
   "cell_type": "code",
   "execution_count": 2,
   "metadata": {},
   "outputs": [
    {
     "name": "stdout",
     "output_type": "stream",
     "text": [
      "[[1, 0, 1], [0, 1, 1], [1, 2, 0]]\n"
     ]
    }
   ],
   "source": [
    "print(A)"
   ]
  },
  {
   "cell_type": "markdown",
   "metadata": {},
   "source": [
    "# 행렬의 열 벡터 분해"
   ]
  },
  {
   "cell_type": "code",
   "execution_count": 3,
   "metadata": {},
   "outputs": [],
   "source": [
    "n = len(A)\n",
    "p = len(A[0])\n",
    "a1 = []\n",
    "a2 = []\n",
    "a3 = []\n",
    "\n",
    "for i in range(0, n):\n",
    "    a1.append(A[i][0])\n",
    "    a2.append(A[i][1])\n",
    "    a3.append(A[i][2])\n",
    "        "
   ]
  },
  {
   "cell_type": "code",
   "execution_count": 4,
   "metadata": {},
   "outputs": [
    {
     "name": "stdout",
     "output_type": "stream",
     "text": [
      "[1, 0, 1]\n",
      "[0, 1, 2]\n",
      "[1, 1, 0]\n"
     ]
    }
   ],
   "source": [
    "print(a1)\n",
    "print(a2)\n",
    "print(a3)"
   ]
  },
  {
   "cell_type": "markdown",
   "metadata": {},
   "source": [
    "# u1 구하기"
   ]
  },
  {
   "cell_type": "code",
   "execution_count": 5,
   "metadata": {},
   "outputs": [
    {
     "name": "stdout",
     "output_type": "stream",
     "text": [
      "[1, 0, 1]\n"
     ]
    }
   ],
   "source": [
    "u1 = a1\n",
    "print(u1)"
   ]
  },
  {
   "cell_type": "markdown",
   "metadata": {},
   "source": [
    "# u2 구하기"
   ]
  },
  {
   "cell_type": "code",
   "execution_count": 6,
   "metadata": {},
   "outputs": [
    {
     "name": "stdout",
     "output_type": "stream",
     "text": [
      "2\n"
     ]
    }
   ],
   "source": [
    "dp21 = 0\n",
    "for i in range(0, len(u1)):\n",
    "    tmp = a2[i]*u1[i]\n",
    "    dp21 += tmp\n",
    "print(dp21)"
   ]
  },
  {
   "cell_type": "code",
   "execution_count": 7,
   "metadata": {},
   "outputs": [
    {
     "name": "stdout",
     "output_type": "stream",
     "text": [
      "1.4142135623730951\n"
     ]
    }
   ],
   "source": [
    "norm_u1 = 0\n",
    "for i in range(0, len(u1)):\n",
    "    norm_u1 += u1[i]**2\n",
    "norm_u1 = norm_u1**(0.5)\n",
    "print(norm_u1)"
   ]
  },
  {
   "cell_type": "code",
   "execution_count": 8,
   "metadata": {},
   "outputs": [
    {
     "name": "stdout",
     "output_type": "stream",
     "text": [
      "[-0.9999999999999998, 1.0, 1.0000000000000002]\n"
     ]
    }
   ],
   "source": [
    "u2 = []\n",
    "for i in range(0, n):\n",
    "    tmp = a2[i] - (dp21/norm_u1**2)*u1[i]\n",
    "    u2.append(tmp)\n",
    "print(u2)"
   ]
  },
  {
   "cell_type": "markdown",
   "metadata": {},
   "source": [
    "# u3 구하기"
   ]
  },
  {
   "cell_type": "code",
   "execution_count": 9,
   "metadata": {},
   "outputs": [
    {
     "name": "stdout",
     "output_type": "stream",
     "text": [
      "1\n"
     ]
    }
   ],
   "source": [
    "dp31 = 0\n",
    "for i in range(0, n):\n",
    "    tmp = a3[i]*u1[i]\n",
    "    dp31 += tmp\n",
    "print(dp31)"
   ]
  },
  {
   "cell_type": "code",
   "execution_count": 10,
   "metadata": {},
   "outputs": [
    {
     "name": "stdout",
     "output_type": "stream",
     "text": [
      "2.220446049250313e-16\n"
     ]
    }
   ],
   "source": [
    "dp32 = 0\n",
    "for i in range(0, n):\n",
    "    tmp = a3[i]*u2[i]\n",
    "    dp32 += tmp\n",
    "print(dp32)"
   ]
  },
  {
   "cell_type": "code",
   "execution_count": 11,
   "metadata": {},
   "outputs": [
    {
     "name": "stdout",
     "output_type": "stream",
     "text": [
      "1.7320508075688772\n"
     ]
    }
   ],
   "source": [
    "norm_u2 = 0\n",
    "for i in range(0, n):\n",
    "    norm_u2 += u2[i]**2\n",
    "norm_u2 = norm_u2**(0.5)    \n",
    "print(norm_u2)"
   ]
  },
  {
   "cell_type": "code",
   "execution_count": 12,
   "metadata": {},
   "outputs": [
    {
     "name": "stdout",
     "output_type": "stream",
     "text": [
      "[0.5000000000000002, 0.9999999999999999, -0.49999999999999994]\n"
     ]
    }
   ],
   "source": [
    "u3 = []\n",
    "for i in range(0, n):\n",
    "    tmp = a3[i]-(dp31/norm_u1**2)*u1[i]-(dp32/norm_u2**2)*u2[i]\n",
    "    u3.append(tmp)\n",
    "print(u3)"
   ]
  },
  {
   "cell_type": "code",
   "execution_count": 13,
   "metadata": {},
   "outputs": [
    {
     "name": "stdout",
     "output_type": "stream",
     "text": [
      "1.224744871391589\n"
     ]
    }
   ],
   "source": [
    "norm_u3 = 0\n",
    "for i in range(0, n):\n",
    "    norm_u3 += u3[i]**2\n",
    "norm_u3 = norm_u3**(0.5)    \n",
    "print(norm_u3)"
   ]
  },
  {
   "cell_type": "markdown",
   "metadata": {},
   "source": [
    "# v 구하기"
   ]
  },
  {
   "cell_type": "code",
   "execution_count": 14,
   "metadata": {},
   "outputs": [
    {
     "name": "stdout",
     "output_type": "stream",
     "text": [
      "[0.7071067811865475, 0.0, 0.7071067811865475]\n",
      "[-0.5773502691896256, 0.5773502691896258, 0.577350269189626]\n",
      "[0.40824829046386324, 0.816496580927726, -0.408248290463863]\n"
     ]
    }
   ],
   "source": [
    "v1 = []\n",
    "v2 = []\n",
    "v3 = []\n",
    "for i in range(0, n):\n",
    "    tmp1 = u1[i]/norm_u1\n",
    "    tmp2 = u2[i]/norm_u2\n",
    "    tmp3 = u3[i]/norm_u3\n",
    "    v1.append(tmp1)\n",
    "    v2.append(tmp2)\n",
    "    v3.append(tmp3)\n",
    "print(v1)\n",
    "print(v2)\n",
    "print(v3)"
   ]
  },
  {
   "cell_type": "markdown",
   "metadata": {},
   "source": [
    "# Q 구하기"
   ]
  },
  {
   "cell_type": "code",
   "execution_count": 15,
   "metadata": {},
   "outputs": [],
   "source": [
    "Q = [[0,0,0],[0,0,0],[0,0,0]]\n",
    "\n",
    "for i in range(0,n):\n",
    "    Q[i][0] = v1[i]\n",
    "    Q[i][1] = v2[i]\n",
    "    Q[i][2] = v3[i]\n"
   ]
  },
  {
   "cell_type": "code",
   "execution_count": 16,
   "metadata": {},
   "outputs": [
    {
     "data": {
      "text/plain": [
       "[[0.7071067811865475, -0.5773502691896256, 0.40824829046386324],\n",
       " [0.0, 0.5773502691896258, 0.816496580927726],\n",
       " [0.7071067811865475, 0.577350269189626, -0.408248290463863]]"
      ]
     },
     "execution_count": 16,
     "metadata": {},
     "output_type": "execute_result"
    }
   ],
   "source": [
    "Q"
   ]
  },
  {
   "cell_type": "markdown",
   "metadata": {},
   "source": [
    "# R 구하기"
   ]
  },
  {
   "cell_type": "code",
   "execution_count": 17,
   "metadata": {},
   "outputs": [],
   "source": [
    "R = [[0,0,0],[0,0,0],[0,0,0]]\n",
    "\n",
    "for i in range(0, n):\n",
    "    R[0][0] += a1[i]*v1[i]\n",
    "    R[0][1] += a2[i]*v1[i]\n",
    "    R[0][2] += a3[i]*v1[i]\n",
    "    R[1][1] += a2[i]*v2[i]\n",
    "    R[1][2] += a3[i]*v2[i]\n",
    "    R[2][2] += a3[i]*v3[i]\n",
    "    "
   ]
  },
  {
   "cell_type": "code",
   "execution_count": 18,
   "metadata": {},
   "outputs": [
    {
     "data": {
      "text/plain": [
       "[[1.414213562373095, 1.414213562373095, 0.7071067811865475],\n",
       " [0, 1.7320508075688776, 2.220446049250313e-16],\n",
       " [0, 0, 1.2247448713915894]]"
      ]
     },
     "execution_count": 18,
     "metadata": {},
     "output_type": "execute_result"
    }
   ],
   "source": [
    "R"
   ]
  },
  {
   "cell_type": "code",
   "execution_count": null,
   "metadata": {},
   "outputs": [],
   "source": []
  },
  {
   "cell_type": "markdown",
   "metadata": {},
   "source": [
    "# 전체 코드"
   ]
  },
  {
   "cell_type": "code",
   "execution_count": 19,
   "metadata": {},
   "outputs": [
    {
     "name": "stdout",
     "output_type": "stream",
     "text": [
      "[[0.7071067811865475, -0.5773502691896256, 0.40824829046386324], [0.0, 0.5773502691896258, 0.816496580927726], [0.7071067811865475, 0.577350269189626, -0.408248290463863]]\n",
      "[[1.414213562373095, 1.414213562373095, 0.7071067811865475], [0, 1.7320508075688776, 2.220446049250313e-16], [0, 0, 1.2247448713915894]]\n"
     ]
    }
   ],
   "source": [
    "# 행렬 설정\n",
    "A = [[1, 0, 1], [0, 1, 1], [1, 2, 0]]\n",
    "\n",
    "# 열벡터 분해\n",
    "n = len(A)\n",
    "p = len(A[0])\n",
    "a1 = []\n",
    "a2 = []\n",
    "a3 = []\n",
    "\n",
    "for i in range(0, n):\n",
    "    a1.append(A[i][0])\n",
    "    a2.append(A[i][1])\n",
    "    a3.append(A[i][2])\n",
    "\n",
    "# u1\n",
    "u1 = a1\n",
    "\n",
    "# norm u1\n",
    "norm_u1 = 0\n",
    "for i in range(0, len(u1)):\n",
    "    norm_u1 += u1[i]**2\n",
    "norm_u1 = norm_u1**(0.5)\n",
    "\n",
    "# u2\n",
    "dp21 = 0\n",
    "for i in range(0, len(u1)):\n",
    "    tmp = a2[i]*u1[i]\n",
    "    dp21 += tmp\n",
    "\n",
    "u2 = []\n",
    "for i in range(0, n):\n",
    "    tmp = a2[i] - (dp21/norm_u1**2)*u1[i]\n",
    "    u2.append(tmp)\n",
    "\n",
    "# norm u2\n",
    "norm_u2 = 0\n",
    "for i in range(0, n):\n",
    "    norm_u2 += u2[i]**2\n",
    "norm_u2 = norm_u2**(0.5)   \n",
    "\n",
    "# u3\n",
    "dp31 = 0\n",
    "for i in range(0, n):\n",
    "    tmp = a3[i]*u1[i]\n",
    "    dp31 += tmp\n",
    "\n",
    "dp32 = 0\n",
    "for i in range(0, n):\n",
    "    tmp = a3[i]*u2[i]\n",
    "    dp32 += tmp\n",
    "\n",
    "u3 = []\n",
    "for i in range(0, n):\n",
    "    tmp = a3[i]-(dp31/norm_u1**2)*u1[i]-(dp32/norm_u2**2)*u2[i]\n",
    "    u3.append(tmp)\n",
    "    \n",
    "# norm u3\n",
    "norm_u3 = 0\n",
    "for i in range(0, n):\n",
    "    norm_u3 += u3[i]**2\n",
    "norm_u3 = norm_u3**(0.5)\n",
    "\n",
    "# v\n",
    "v1 = []\n",
    "v2 = []\n",
    "v3 = []\n",
    "for i in range(0, n):\n",
    "    tmp1 = u1[i]/norm_u1\n",
    "    tmp2 = u2[i]/norm_u2\n",
    "    tmp3 = u3[i]/norm_u3\n",
    "    v1.append(tmp1)\n",
    "    v2.append(tmp2)\n",
    "    v3.append(tmp3)\n",
    "    \n",
    "# Q\n",
    "Q = [[0,0,0],[0,0,0],[0,0,0]]\n",
    "\n",
    "for i in range(0,n):\n",
    "    Q[i][0] = v1[i]\n",
    "    Q[i][1] = v2[i]\n",
    "    Q[i][2] = v3[i]\n",
    "print(Q)\n",
    "\n",
    "# R\n",
    "R = [[0,0,0],[0,0,0],[0,0,0]]\n",
    "\n",
    "for i in range(0, n):\n",
    "    R[0][0] += a1[i]*v1[i]\n",
    "    R[0][1] += a2[i]*v1[i]\n",
    "    R[0][2] += a3[i]*v1[i]\n",
    "    R[1][1] += a2[i]*v2[i]\n",
    "    R[1][2] += a3[i]*v2[i]\n",
    "    R[2][2] += a3[i]*v3[i]\n",
    "print(R)"
   ]
  },
  {
   "cell_type": "code",
   "execution_count": 20,
   "metadata": {},
   "outputs": [],
   "source": [
    "def qr_decomp(A):\n",
    "    '''\n",
    "    QR 분해\n",
    "    '''\n",
    "    # 열벡터 분해\n",
    "    n = len(A)\n",
    "    p = len(A[0])\n",
    "    a1 = []\n",
    "    a2 = []\n",
    "    a3 = []\n",
    "\n",
    "    for i in range(0, n):\n",
    "        a1.append(A[i][0])\n",
    "        a2.append(A[i][1])\n",
    "        a3.append(A[i][2])\n",
    "\n",
    "    # u1\n",
    "    u1 = a1\n",
    "\n",
    "    # norm u1\n",
    "    norm_u1 = 0\n",
    "    for i in range(0, len(u1)):\n",
    "        norm_u1 += u1[i]**2\n",
    "    norm_u1 = norm_u1**(0.5)\n",
    "\n",
    "    # u2\n",
    "    dp21 = 0\n",
    "    for i in range(0, len(u1)):\n",
    "        tmp = a2[i]*u1[i]\n",
    "        dp21 += tmp\n",
    "\n",
    "    u2 = []\n",
    "    for i in range(0, n):\n",
    "        tmp = a2[i] - (dp21/norm_u1**2)*u1[i]\n",
    "        u2.append(tmp)\n",
    "\n",
    "    # norm u2\n",
    "    norm_u2 = 0\n",
    "    for i in range(0, n):\n",
    "        norm_u2 += u2[i]**2\n",
    "    norm_u2 = norm_u2**(0.5)   \n",
    "\n",
    "    # u3\n",
    "    dp31 = 0\n",
    "    for i in range(0, n):\n",
    "        tmp = a3[i]*u1[i]\n",
    "        dp31 += tmp\n",
    "\n",
    "    dp32 = 0\n",
    "    for i in range(0, n):\n",
    "        tmp = a3[i]*u2[i]\n",
    "        dp32 += tmp\n",
    "\n",
    "    u3 = []\n",
    "    for i in range(0, n):\n",
    "        tmp = a3[i]-(dp31/norm_u1**2)*u1[i]-(dp32/norm_u2**2)*u2[i]\n",
    "        u3.append(tmp)\n",
    "\n",
    "    # norm u3\n",
    "    norm_u3 = 0\n",
    "    for i in range(0, n):\n",
    "        norm_u3 += u3[i]**2\n",
    "    norm_u3 = norm_u3**(0.5)\n",
    "\n",
    "    # v\n",
    "    v1 = []\n",
    "    v2 = []\n",
    "    v3 = []\n",
    "    for i in range(0, n):\n",
    "        tmp1 = u1[i]/norm_u1\n",
    "        tmp2 = u2[i]/norm_u2\n",
    "        tmp3 = u3[i]/norm_u3\n",
    "        v1.append(tmp1)\n",
    "        v2.append(tmp2)\n",
    "        v3.append(tmp3)\n",
    "\n",
    "    # Q\n",
    "    Q = [[0,0,0],[0,0,0],[0,0,0]]\n",
    "\n",
    "    for i in range(0,n):\n",
    "        Q[i][0] = v1[i]\n",
    "        Q[i][1] = v2[i]\n",
    "        Q[i][2] = v3[i]\n",
    "\n",
    "    # R\n",
    "    R = [[0,0,0],[0,0,0],[0,0,0]]\n",
    "\n",
    "    for i in range(0, n):\n",
    "        R[0][0] += a1[i]*v1[i]\n",
    "        R[0][1] += a2[i]*v1[i]\n",
    "        R[0][2] += a3[i]*v1[i]\n",
    "        R[1][1] += a2[i]*v2[i]\n",
    "        R[1][2] += a3[i]*v2[i]\n",
    "        R[2][2] += a3[i]*v3[i]\n",
    "    \n",
    "    return (Q, R)"
   ]
  },
  {
   "cell_type": "markdown",
   "metadata": {},
   "source": [
    "# 일반화"
   ]
  },
  {
   "cell_type": "code",
   "execution_count": 21,
   "metadata": {},
   "outputs": [],
   "source": [
    "A = [[1, 0, 1], [0, 1, 1], [1, 2, 0]]"
   ]
  },
  {
   "cell_type": "code",
   "execution_count": 22,
   "metadata": {},
   "outputs": [],
   "source": [
    "def transpose(A):\n",
    "    \"\"\"\n",
    "    행렬의 전치행렬\n",
    "    입력값: 전치행렬을 구하고자 하는 행렬 A\n",
    "    출력값: 행렬 A의 전치행렬 At\n",
    "    \"\"\"\n",
    "    n = len(A)\n",
    "    p = len(A[0])\n",
    "\n",
    "    At  = []\n",
    "    for i in range(0, p):\n",
    "        row = []\n",
    "        for j in range(0, n):\n",
    "            val = A[j][i]\n",
    "            row.append(val)\n",
    "        At.append(row)\n",
    "    return At\n",
    "\n",
    "def norm(a):\n",
    "    \"\"\"\n",
    "    벡터의 norm\n",
    "    입력값: norm을 구하고자 할 벡터 a\n",
    "    출력값: 벡터 a의 norm 결과 res\n",
    "    \"\"\"\n",
    "    n = len(a)\n",
    "    res = 0\n",
    "    for i in range(0, n):\n",
    "        res += a[i]**2\n",
    "    res = res**(0.5)   \n",
    "    return res\n",
    "\n",
    "def inner_product(a, b):\n",
    "    \"\"\"\n",
    "    벡터의 내적\n",
    "    입력값: 내적할 벡터 리스트 a, b\n",
    "    출력값: 벡터 a, b의 내적 결과 res\n",
    "    \"\"\"\n",
    "    n = len(a)\n",
    "    res = 0\n",
    "    for i in range(0, n):\n",
    "        res += a[i]*b[i]\n",
    "    return res\n",
    "\n",
    "def normalize(a):\n",
    "    \"\"\"\n",
    "    벡터 a의 normalization\n",
    "    벡터 a의 norm을 1로 만들어줌\n",
    "    입력값: normalization할 벡터 리스트 a\n",
    "    출력값: 벡터 a를 normalization한 결과 벡터 리스트 v\n",
    "    \"\"\"\n",
    "    n = len(a)\n",
    "    v = []\n",
    "    for i in range(0,n):\n",
    "        tmp = a[i]/norm(a)\n",
    "        v.append(tmp)\n",
    "    return v"
   ]
  },
  {
   "cell_type": "code",
   "execution_count": 23,
   "metadata": {},
   "outputs": [],
   "source": [
    "n = len(A)\n",
    "p = len(A[0])\n",
    "\n",
    "At = transpose(A)\n",
    "\n",
    "U = []\n",
    "norm_list = []\n",
    "\n",
    "V = []\n",
    "Q = []\n",
    "R = []\n",
    "\n",
    "for i in range(0,n):\n",
    "    if i == 0:\n",
    "        u = At[i]\n",
    "        norm_u = norm(u)\n",
    "        U.append(u)\n",
    "        norm_list.append(norm_u)\n",
    "    else:\n",
    "        a = At[i]\n",
    "        dp_list = []\n",
    "        for j in range(0,i):\n",
    "            dp = inner_product(a, U[j])\n",
    "            dp_list.append(dp)\n",
    "        \n",
    "        for j in range(0,i):\n",
    "            u = []\n",
    "            for k in range(0,n):\n",
    "                tmp = a[k]\n",
    "                for l in range(0,i):\n",
    "                    tmp -= (dp_list[l]/norm_list[l]**2)*U[l][k]\n",
    "                u.append(tmp)\n",
    "        norm_u = norm(u)\n",
    "        U.append(u)\n",
    "        norm_list.append(norm_u)\n",
    "    \n",
    "    v = normalize(u)\n",
    "    V.append(v)        \n",
    "    \n",
    "Q = transpose(V)\n",
    "\n",
    "for i in range(0,n):\n",
    "    r = []\n",
    "    for j in range(0,n):\n",
    "        if i > j:\n",
    "            r.append(0)\n",
    "        else:\n",
    "            r_ele = inner_product(At[j], V[i])\n",
    "            r.append(r_ele)\n",
    "    R.append(r)\n"
   ]
  },
  {
   "cell_type": "code",
   "execution_count": 24,
   "metadata": {},
   "outputs": [
    {
     "data": {
      "text/plain": [
       "[[0.7071067811865475, -0.5773502691896256, 0.40824829046386324],\n",
       " [0.0, 0.5773502691896258, 0.816496580927726],\n",
       " [0.7071067811865475, 0.577350269189626, -0.408248290463863]]"
      ]
     },
     "execution_count": 24,
     "metadata": {},
     "output_type": "execute_result"
    }
   ],
   "source": [
    "Q"
   ]
  },
  {
   "cell_type": "code",
   "execution_count": 25,
   "metadata": {},
   "outputs": [
    {
     "data": {
      "text/plain": [
       "[[1.414213562373095, 1.414213562373095, 0.7071067811865475],\n",
       " [0, 1.7320508075688776, 2.220446049250313e-16],\n",
       " [0, 0, 1.2247448713915894]]"
      ]
     },
     "execution_count": 25,
     "metadata": {},
     "output_type": "execute_result"
    }
   ],
   "source": [
    "R"
   ]
  },
  {
   "cell_type": "markdown",
   "metadata": {},
   "source": [
    "# 일반화 QR분해 함수"
   ]
  },
  {
   "cell_type": "code",
   "execution_count": 26,
   "metadata": {},
   "outputs": [],
   "source": [
    "def qr_gram(A):\n",
    "    \"\"\"\n",
    "    그램 슈미트 방법을 이용한 QR분해\n",
    "    입력값: 행렬 A\n",
    "    출력값: 행렬 A를 그램 슈미트 방법을 이용해 QR분해한 결과 행렬 Q, R\n",
    "    \"\"\"\n",
    "    n = len(A)\n",
    "    p = len(A[0])\n",
    "\n",
    "    At = transpose(A)\n",
    "\n",
    "    U = []\n",
    "    norm_list = []\n",
    "\n",
    "    V = []\n",
    "    Q = []\n",
    "    R = []\n",
    "\n",
    "    for i in range(0,p):\n",
    "        if i == 0:\n",
    "            u = At[i]\n",
    "            norm_u = norm(u)\n",
    "            U.append(u)\n",
    "            norm_list.append(norm_u)\n",
    "        else:\n",
    "            a = At[i]\n",
    "            dp_list = []\n",
    "            for j in range(0,i):\n",
    "                dp = inner_product(a, U[j])\n",
    "                dp_list.append(dp)\n",
    "\n",
    "            u = []\n",
    "            for j in range(0,n):\n",
    "                val = a[j]\n",
    "                for k in range(0,i):\n",
    "                    val -= (dp_list[k]/norm_list[k]**2)*U[k][j]\n",
    "                u.append(val)\n",
    "            norm_u = norm(u)\n",
    "            U.append(u)\n",
    "            norm_list.append(norm_u)\n",
    "\n",
    "        v = normalize(u)\n",
    "        V.append(v)        \n",
    "\n",
    "    Q = transpose(V)\n",
    "\n",
    "    for i in range(0,p):\n",
    "        r = []\n",
    "        for j in range(0,p):\n",
    "            if i > j:\n",
    "                r.append(0)\n",
    "            else:\n",
    "                r_ele = inner_product(At[j], V[i])\n",
    "                r.append(r_ele)\n",
    "        R.append(r)\n",
    "    \n",
    "    return Q, R\n",
    "\n"
   ]
  },
  {
   "cell_type": "code",
   "execution_count": 27,
   "metadata": {},
   "outputs": [],
   "source": [
    "Q, R = qr_gram(A)"
   ]
  },
  {
   "cell_type": "code",
   "execution_count": 28,
   "metadata": {},
   "outputs": [
    {
     "data": {
      "text/plain": [
       "[[0.7071067811865475, -0.5773502691896256, 0.40824829046386324],\n",
       " [0.0, 0.5773502691896258, 0.816496580927726],\n",
       " [0.7071067811865475, 0.577350269189626, -0.408248290463863]]"
      ]
     },
     "execution_count": 28,
     "metadata": {},
     "output_type": "execute_result"
    }
   ],
   "source": [
    "Q"
   ]
  },
  {
   "cell_type": "code",
   "execution_count": 29,
   "metadata": {},
   "outputs": [
    {
     "data": {
      "text/plain": [
       "[[1.414213562373095, 1.414213562373095, 0.7071067811865475],\n",
       " [0, 1.7320508075688776, 2.220446049250313e-16],\n",
       " [0, 0, 1.2247448713915894]]"
      ]
     },
     "execution_count": 29,
     "metadata": {},
     "output_type": "execute_result"
    }
   ],
   "source": [
    "R"
   ]
  },
  {
   "cell_type": "code",
   "execution_count": 30,
   "metadata": {},
   "outputs": [],
   "source": [
    "B = [[3, 2, -3], [5, 0, 4], [0, -1, 3]]"
   ]
  },
  {
   "cell_type": "code",
   "execution_count": 31,
   "metadata": {},
   "outputs": [],
   "source": [
    "q1, r1 = qr_decomp(B)"
   ]
  },
  {
   "cell_type": "code",
   "execution_count": 32,
   "metadata": {},
   "outputs": [
    {
     "data": {
      "text/plain": [
       "[[0.5144957554275265, 0.7407610636824498, 0.43193421279068067],\n",
       " [0.8574929257125441, -0.44445663820946985, -0.25916052767440906],\n",
       " [0.0, -0.5037175233040658, 0.8638684255813596]]"
      ]
     },
     "execution_count": 32,
     "metadata": {},
     "output_type": "execute_result"
    }
   ],
   "source": [
    "q1"
   ]
  },
  {
   "cell_type": "code",
   "execution_count": 33,
   "metadata": {},
   "outputs": [
    {
     "data": {
      "text/plain": [
       "[[5.830951894845299, 1.028991510855053, 1.886484436567597],\n",
       " [0, 1.9852396506689653, -5.511262313797427],\n",
       " [0, 0, 0.2591605276744007]]"
      ]
     },
     "execution_count": 33,
     "metadata": {},
     "output_type": "execute_result"
    }
   ],
   "source": [
    "r1"
   ]
  },
  {
   "cell_type": "code",
   "execution_count": 34,
   "metadata": {},
   "outputs": [],
   "source": [
    "q2, r2 = qr_gram(B)"
   ]
  },
  {
   "cell_type": "code",
   "execution_count": 35,
   "metadata": {},
   "outputs": [
    {
     "data": {
      "text/plain": [
       "[[0.5144957554275265, 0.7407610636824498, 0.43193421279068067],\n",
       " [0.8574929257125441, -0.44445663820946985, -0.25916052767440906],\n",
       " [0.0, -0.5037175233040658, 0.8638684255813596]]"
      ]
     },
     "execution_count": 35,
     "metadata": {},
     "output_type": "execute_result"
    }
   ],
   "source": [
    "q2"
   ]
  },
  {
   "cell_type": "code",
   "execution_count": 36,
   "metadata": {},
   "outputs": [
    {
     "data": {
      "text/plain": [
       "[[5.830951894845299, 1.028991510855053, 1.886484436567597],\n",
       " [0, 1.9852396506689653, -5.511262313797427],\n",
       " [0, 0, 0.2591605276744007]]"
      ]
     },
     "execution_count": 36,
     "metadata": {},
     "output_type": "execute_result"
    }
   ],
   "source": [
    "r2"
   ]
  },
  {
   "cell_type": "code",
   "execution_count": 37,
   "metadata": {},
   "outputs": [
    {
     "data": {
      "text/plain": [
       "True"
      ]
     },
     "execution_count": 37,
     "metadata": {},
     "output_type": "execute_result"
    }
   ],
   "source": [
    "q1 == q2"
   ]
  },
  {
   "cell_type": "code",
   "execution_count": 38,
   "metadata": {},
   "outputs": [
    {
     "data": {
      "text/plain": [
       "True"
      ]
     },
     "execution_count": 38,
     "metadata": {},
     "output_type": "execute_result"
    }
   ],
   "source": [
    "r2 == r1"
   ]
  },
  {
   "cell_type": "code",
   "execution_count": 39,
   "metadata": {},
   "outputs": [],
   "source": [
    "C = [[2,-2,18],[2,1,0],[1,2,0]]"
   ]
  },
  {
   "cell_type": "code",
   "execution_count": 40,
   "metadata": {},
   "outputs": [
    {
     "data": {
      "text/plain": [
       "([[0.6666666666666666, -0.6666666666666666, 0.3333333333333333],\n",
       "  [0.6666666666666666, 0.3333333333333333, -0.6666666666666666],\n",
       "  [0.3333333333333333, 0.6666666666666666, 0.6666666666666666]],\n",
       " [[3.0, 0.0, 12.0], [0, 3.0, -12.0], [0, 0, 6.0]])"
      ]
     },
     "execution_count": 40,
     "metadata": {},
     "output_type": "execute_result"
    }
   ],
   "source": [
    "qr_gram(C)"
   ]
  },
  {
   "cell_type": "code",
   "execution_count": 41,
   "metadata": {},
   "outputs": [],
   "source": [
    "D = [[2,-2,18],[2,1,0],[1,2,0],[6,2,1]]"
   ]
  },
  {
   "cell_type": "code",
   "execution_count": 42,
   "metadata": {},
   "outputs": [
    {
     "data": {
      "text/plain": [
       "([[0.29814239699997197, -0.8092436489999238, 0.505936661831573],\n",
       "  [0.29814239699997197, 0.149071198499986, 0.03249134525523869],\n",
       "  [0.14907119849998599, 0.5536930229999479, 0.8030003898794689],\n",
       "  [0.8944271909999159, 0.1277753129999881, -0.3133094006755151]],\n",
       " [[6.708203932499369, 1.7888543819998317, 6.260990336999411],\n",
       "  [0, 3.130495168499706, -14.43861036899864],\n",
       "  [0, 0, 8.7935505122928]])"
      ]
     },
     "execution_count": 42,
     "metadata": {},
     "output_type": "execute_result"
    }
   ],
   "source": [
    "qr_gram(D)"
   ]
  }
 ],
 "metadata": {
  "kernelspec": {
   "display_name": "Python 3 (ipykernel)",
   "language": "python",
   "name": "python3"
  },
  "language_info": {
   "codemirror_mode": {
    "name": "ipython",
    "version": 3
   },
   "file_extension": ".py",
   "mimetype": "text/x-python",
   "name": "python",
   "nbconvert_exporter": "python",
   "pygments_lexer": "ipython3",
   "version": "3.9.13"
  }
 },
 "nbformat": 4,
 "nbformat_minor": 4
}
